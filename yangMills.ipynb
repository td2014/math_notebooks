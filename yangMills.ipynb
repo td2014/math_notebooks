{
 "cells": [
  {
   "cell_type": "markdown",
   "metadata": {},
   "source": [
    "# Analysis of M. Aizenman paper\n",
    "\n",
    "Equation 2.3:\n",
    "\n",
    "$Z_{A} = {tr}_{A} e^{-\\beta H} = {tr}_{A} \\prod\\limits_{b \\equiv \\{x,y\\}} e^{\\beta J_{b} \\sigma_{x} \\sigma_{y}}$\n",
    "\n",
    "Substituting the power series expansion for the exponential:\n",
    "\n",
    "$Z_{A}={tr}_{A} \\prod\\limits_{b \\equiv \\{x,y\\}}\\sum\\limits_{n_b=0}^{\\infty} (\\sigma_{x} \\sigma_{y})^{n_{b}}(\\beta J_{b})^{n_{b}}/n_{b}!$\n",
    "\n",
    "Substituting the definition of ${tr}_{A}$:\n",
    "\n",
    "$Z_{A}=\\prod\\limits_{x \\in \\Lambda}(\\frac{1}{2} \\sum\\limits_{\\sigma_{x}=\\pm1}) \\prod\\limits_{b \\equiv \\{x,y\\}}\\sum\\limits_{n_b=0}^{\\infty} (\\sigma_{x} \\sigma_{y})^{n_{b}}(\\beta J_{b})^{n_{b}}/n_{b}!$"
   ]
  },
  {
   "cell_type": "code",
   "execution_count": null,
   "metadata": {
    "collapsed": true
   },
   "outputs": [],
   "source": []
  }
 ],
 "metadata": {
  "kernelspec": {
   "display_name": "Python 3",
   "language": "python",
   "name": "python3"
  },
  "language_info": {
   "codemirror_mode": {
    "name": "ipython",
    "version": 3
   },
   "file_extension": ".py",
   "mimetype": "text/x-python",
   "name": "python",
   "nbconvert_exporter": "python",
   "pygments_lexer": "ipython3",
   "version": "3.6.2"
  }
 },
 "nbformat": 4,
 "nbformat_minor": 2
}
