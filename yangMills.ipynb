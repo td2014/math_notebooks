{
 "cells": [
  {
   "cell_type": "markdown",
   "metadata": {},
   "source": [
    "# Analysis of M. Aizenman paper\n",
    "\n",
    "We have  \n",
    "\n",
    "$ Z_{\\Lambda} = {tr}_{\\Lambda} e^{-\\beta H}$  \n",
    "$ Z_{\\Lambda} = {tr}_{\\Lambda} \\displaystyle\\prod_{b \\equiv \\{x,y\\}} e^{\\beta J_{b} \\sigma_{x} \\sigma_{y}}$\n",
    "\n",
    "Substituting the power series expansion for the exponential:\n",
    "\n",
    "$ Z_{\\Lambda}={tr}_{\\Lambda} \\displaystyle\\prod\\limits_{b \\equiv \\{x,y\\}} \\displaystyle\\sum\\limits_{n_b=0}^{\\infty} (\\sigma_{x} \\sigma_{y})^{n_{b}}(\\beta J_{b})^{n_{b}}/n_{b}!$\n",
    "\n",
    "Substituting the definition of ${tr}_{\\Lambda}$:\n",
    "\n",
    "$ Z_{\\Lambda}=\\prod\\limits_{x \\in \\Lambda}(\\frac{1}{2} \\sum\\limits_{\\sigma_{x}=\\pm1}) \\prod\\limits_{b \\equiv \\{x,y\\}}\\sum\\limits_{n_b=0}^{\\infty} (\\sigma_{x} \\sigma_{y})^{n_{b}}(\\beta J_{b})^{n_{b}}/n_{b}!$  \n",
    "\n",
    "Consider a simple set of spins on the corners of a square (which is the same as a linear array if we are only counting nearest neighbor interactions).\n",
    "\n",
    "We have the Hamiltonian:  $H= -\\frac{1}{2}J_{1,2} \\sigma_{1} \\sigma_{2} -\\frac{1}{2}J_{2,1} \\sigma_{2} \\sigma_{1} - \\frac{1}{2}J_{2,3} \\sigma_{2} \\sigma_{3} -\\frac{1}{2}J_{3,2} \\sigma_{3} \\sigma_{2} - \\frac{1}{2}J_{3,4} \\sigma_{3} \\sigma_{4} -\\frac{1}{2}J_{4,3} \\sigma_{4} \\sigma_{3} - \\frac{1}{2}J_{4,1} \\sigma_{4} \\sigma_{1} -\\frac{1}{2}J_{1,4} \\sigma_{1} \\sigma_{4} $\n",
    "\n",
    "Now turning to the \"bond\" notation, $b\\equiv \\{x,y\\}$, we have four such bonds: $\\{1,2\\}$, $\\{2,3\\}$, $\\{3,4\\}$, and $\\{4,1\\}$.  Labeling these bonds by the first entry, the Hamiltonian becomes:\n",
    "\n",
    "$H= -J_{1} \\sigma_{1} \\sigma_{2} - J_{2} \\sigma_{2} \\sigma_{3} - J_{3} \\sigma_{3} \\sigma_{4} - J_{4} \\sigma_{4} \\sigma_{1} $,  \n",
    "\n",
    "where we assume that the coupling coefficients are symmetric when their indices are reversed.\n",
    "\n",
    "Now, if we use the exponential form we get a product over the bonds:\n",
    "\n",
    "$e^{\\beta J_{1} \\sigma_{1} \\sigma_{2}}e^{\\beta J_{2} \\sigma_{2} \\sigma_{3}}e^{\\beta J_{3} \\sigma_{3} \\sigma_{4}}e^{\\beta J_{4} \\sigma_{4} \\sigma_{1}}$\n",
    "\n",
    "Now, to consider the $tr_{\\Lambda}$ operator, we have a product of four indices:\n",
    "\n",
    "when $x=1$ we have $ \\frac{1}{2} e^{\\beta J_{1} \\sigma_{2}}e^{\\beta J_{2} \\sigma_{2} \\sigma_{3}}e^{\\beta J_{3} \\sigma_{3} \\sigma_{4}}e^{\\beta J_{4} \\sigma_{4} }+ \\frac{1}{2} e^{- \\beta J_{1} \\sigma_{2}}e^{\\beta J_{2} \\sigma_{2} \\sigma_{3}}e^{\\beta J_{3} \\sigma_{3} \\sigma_{4}}e^{-\\beta J_{4} \\sigma_{4} } $  \n",
    "which equals:\n",
    "$ \\frac{1}{2} e^{\\beta J_{2} \\sigma_{2} \\sigma_{3}}e^{\\beta J_{3} \\sigma_{3} \\sigma_{4}} ( e^{\\beta J_{1} \\sigma_{2}}e^{\\beta J_{4} \\sigma_{4} }+ e^{- \\beta J_{1} \\sigma_{2}}e^{-\\beta J_{4} \\sigma_{4} }) $\n",
    "\n",
    "when $x=2$ we have $ \\frac{1}{2} e^{\\beta J_{1} \\sigma_{1}}e^{\\beta J_{2}\\sigma_{3}}e^{\\beta J_{3} \\sigma_{3} \\sigma_{4}}e^{\\beta J_{4} \\sigma_{4} \\sigma_{1} } + \\frac{1}{2} e^{- \\beta J_{1} \\sigma_{1}}e^{-\\beta J_{2} \\sigma_{3}}e^{\\beta J_{3} \\sigma_{3} \\sigma_{4}}e^{\\beta J_{4} \\sigma_{4} \\sigma_{1} } $  \n",
    "which equals:\n",
    "$ \\frac{1}{2} e^{\\beta J_{3} \\sigma_{3} \\sigma_{4}}e^{\\beta J_{4} \\sigma_{4} \\sigma_{1} } ( e^{\\beta J_{1} \\sigma_{1}}e^{\\beta J_{2}\\sigma_{3}} + e^{- \\beta J_{1} \\sigma_{1}}e^{-\\beta J_{2} \\sigma_{3}}) $\n",
    "\n",
    "\n",
    "when $x=3$ we have $ \\frac{1}{2} e^{\\beta J_{1} \\sigma_{1} \\sigma_{2}}e^{\\beta J_{2} \\sigma_{2} }e^{\\beta J_{3} \\sigma_{4}}e^{\\beta J_{4} \\sigma_{4} \\sigma_{1} }+ \\frac{1}{2} e^{\\beta J_{1}\\sigma_{1} \\sigma_{2}}e^{-\\beta J_{2} \\sigma_{2} }e^{-\\beta J_{3} \\sigma_{4}}e^{\\beta J_{4} \\sigma_{4} \\sigma_{1} } $  \n",
    "which equals:\n",
    "$ \\frac{1}{2} e^{\\beta J_{1} \\sigma_{1} \\sigma_{2}} e^{\\beta J_{4} \\sigma_{4} \\sigma_{1} } (e^{\\beta J_{2} \\sigma_{2} }e^{\\beta J_{3} \\sigma_{4}} + e^{-\\beta J_{2} \\sigma_{2} }e^{-\\beta J_{3} \\sigma_{4}}) $\n",
    "\n",
    "when $x=4$ we have $ \\frac{1}{2} e^{\\beta J_{1} \\sigma_{1} \\sigma_{2}}e^{\\beta J_{2} \\sigma_{2} \\sigma_{3}}e^{\\beta J_{3} \\sigma_{3} }e^{\\beta J_{4} \\sigma_{1} }+ \\frac{1}{2} e^{\\beta J_{1} \\sigma_{1} \\sigma_{2}}e^{\\beta J_{2} \\sigma_{2} \\sigma_{3}}e^{-\\beta J_{3} \\sigma_{3} }e^{-\\beta J_{4} \\sigma_{1} } $  \n",
    "which equals:\n",
    "$ \\frac{1}{2} e^{\\beta J_{1} \\sigma_{1} \\sigma_{2}}e^{\\beta J_{2} \\sigma_{2} \\sigma_{3}}(e^{\\beta J_{3} \\sigma_{3} }e^{\\beta J_{4} \\sigma_{1} }+ e^{-\\beta J_{3} \\sigma_{3} }e^{-\\beta J_{4} \\sigma_{1} }) $\n",
    "\n"
   ]
  },
  {
   "cell_type": "code",
   "execution_count": null,
   "metadata": {
    "collapsed": true
   },
   "outputs": [],
   "source": []
  }
 ],
 "metadata": {
  "kernelspec": {
   "display_name": "Python 3",
   "language": "python",
   "name": "python3"
  },
  "language_info": {
   "codemirror_mode": {
    "name": "ipython",
    "version": 3
   },
   "file_extension": ".py",
   "mimetype": "text/x-python",
   "name": "python",
   "nbconvert_exporter": "python",
   "pygments_lexer": "ipython3",
   "version": "3.6.2"
  }
 },
 "nbformat": 4,
 "nbformat_minor": 2
}
