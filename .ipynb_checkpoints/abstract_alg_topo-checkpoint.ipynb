{
 "cells": [
  {
   "cell_type": "markdown",
   "metadata": {},
   "source": [
    "# Python notebook to walkthrough some abstract algebra and topology.\n",
    "\n",
    "## Main Sections\n",
    "\n",
    "- Set Theory\n",
    "- Elliptic Curves\n",
    "- Orbits\n",
    "- Lattice Points\n",
    "- Topology\n",
    "- The Langlands Program"
   ]
  },
  {
   "cell_type": "markdown",
   "metadata": {},
   "source": [
    "## Set Theory\n",
    "\n",
    "Set theory is at the foundation of mathematics, so it will be useful to work through the main aspects.  This discussion follows the Wikibook:  https://en.wikibooks.org/wiki/Set_Theory\n",
    "\n",
    "### Topics\n",
    "- Sets\n",
    "- Axioms\n",
    "- Relations\n",
    "- Orderings\n",
    "- Zorn's Lemma and the Axiom of Choice\n",
    "- Ordinals\n",
    "- Cardinals\n",
    "- Zermelo-Fraenkel Axiomatic Set Theory"
   ]
  },
  {
   "cell_type": "markdown",
   "metadata": {},
   "source": [
    "###  Sets\n",
    "\n",
    "Some useful relations:\n",
    "\n",
    "$A\\cup B=B\\cup A$\n",
    "\n",
    "Proof:\n",
    "\n",
    "We must show that the above two sets are equal.  This means that every element in the left hand set is in the right hand set and vice versa.\n",
    "\n",
    "We begin by assuming that an arbitrary element $x$ is in $A\\cup B$.  The definition of $A\\cup B$ is $ A\\cup B={\\Big \\{}x:x\\in A{\\text{ or }}x\\in B{\\Big \\}}$.  Therefore $x\\in A$ or $x\\in B$.  From the definition of $B\\cup A$ which is $ B\\cup A={\\Big \\{}x:x\\in B{\\text{ or }}x\\in A{\\Big \\}}$, we see that since we showed earlier that $x\\in A$ or $x\\in B$, $x$ must be in $B\\cup A$ which completes the first part of the proof.  For the second part, we assume that $x$ is an element of $B\\cup A$, and show this implies that $x$ is an element of $A\\cup B$, which will complete the proof.  From the definition of $B\\cup A$, we know that $x\\in B$ or $x\\in A$, which implies it is in $A\\cup B$, thus completing the proof (Note that since $x$ was assumed to be arbitrary, it is true for all elements $x$.  Also, a slightly subtle point was that we used the fact that \"or\" is symmetric, meaning the following statements (1) & (2) are equivalent: (1) $x\\in A$ or $x\\in B$, (2) $x\\in B$ or $x\\in A$ ).\n",
    "\n",
    "\n",
    "$A\\cap B=B\\cap A$\n",
    "\n",
    "Proof:  (Similar to the one above).  \n",
    "We begin by assuming (actually declaring) that an arbitrary element $x$ is in $A\\cap B$.  The definition of $A\\cap B$ is $ A\\cap B={\\Big \\{}x:x\\in A{\\text{ and }}x\\in B{\\Big \\}}$.  Therefore $x\\in A$ and $x\\in B$.  From the definition of $B\\cap A$ which is $ B\\cap A={\\Big \\{}x:x\\in B{\\text{ and }}x\\in A{\\Big \\}}$, we see that since we showed earlier that $x\\in A$ and $x\\in B$, $x$ must be in $B\\cap A$ which completes the first part of the proof.  For the second part, we assume that $x$ is an element of $B\\cap A$, and show this implies that $x$ is an element of $A\\cap B$, which will complete the proof.  From the definition of $B\\cap A$, we know that $x\\in B$ and $x\\in A$, which implies it is in $A\\cap B$, thus completing the proof (Note that since $x$ was assumed to be arbitrary, it is true for all elements $x$.  Also, a slightly subtle point was that we used the fact that \"and\" is symmetric, meaning the following statements (1) & (2) are equivalent: (1) $x\\in A$ and $x\\in B$, (2) $x\\in B$ and $x\\in A$ ).  \n",
    "\n",
    "----\n",
    "For sets $A,B,C$:\n",
    "\n",
    "$(A\\cup B)\\cup C=A\\cup (B\\cup C)$\n",
    "\n",
    "Proof:  Using a similar approach to the proofs earlier, we begin by assuming that an arbitrary element $x$ is in $(A\\cup B)\\cup C$, which, from the definition tells us that ${\\Big \\{}x:x\\in (A\\cup B){\\text{ or }}x\\in C{\\Big \\}}$.  We further recursively expand the $(A\\cup B)$ term to yield ${\\Big \\{}x:x\\in A{\\text{ or }}x\\in B {\\text{ or }}x\\in C{\\Big \\}}$.  Since the definition of $A\\cup (B\\cup C)$ will yield the same expression, we see that $x$ will be in that set.  This completes the first part of the proof.  For the second part, we assume that $x$ is an arbitrary element in $A\\cup (B\\cup C)$ which, through the definition (and recursive expansion) tells us that ${\\Big \\{}x:x\\in A{\\text{ or }}x\\in B {\\text{ or }}x\\in C{\\Big \\}}$.  The definition for $(A\\cup B)\\cup C$ will expand to the same result, which implies that $x$ is in that set, thus completing the proof.\n",
    "\n",
    "\n",
    "\n",
    "$(A\\cap B)\\cap C=A\\cap (B\\cap C)$:\n",
    "\n",
    "Proof:  Preceding as above, we begin by assuming that an arbitrary element $x$ is in $(A\\cap B)\\cap C$, which, from the definition tells us that ${\\Big \\{}x:x\\in (A\\cap B){\\text{ and }}x\\in C{\\Big \\}}$.  We further recursively expand the $(A\\cap B)$ term to yield ${\\Big \\{}x:x\\in A{\\text{ and }}x\\in B {\\text{ and }}x\\in C{\\Big \\}}$.  Since the definition of $A\\cap (B\\cap C)$ will yield the same expression, we see that $x$ will be in that set.  This completes the first part of the proof.  For the second part, we assume that $x$ is an arbitrary element in $A\\cap (B\\cap C)$ which, through the definition (and recursive expansion) tells us that ${\\Big \\{}x:x\\in A{\\text{ and }}x\\in B {\\text{ and }}x\\in C{\\Big \\}}$.  The definition for $(A\\cap B)\\cap C$ will expand to the same result, which implies that $x$ is in that set, thus completing the proof.    \n",
    "\n",
    "----\n",
    "Union distributes over intersection and intersection distributes over union. That is, for sets $A,B,C$:\n",
    "\n",
    "$A\\cap (B\\cup C)=(A\\cap B)\\cup (A\\cap C)$:\n",
    "\n",
    "Proof:  Begin by assuming that $x$ is in $A\\cap (B\\cup C)$, which by definition yields $ {\\Big \\{} x:x\\in A {\\text{ and }}x\\in (B\\cup C) {\\Big \\}}$.  Expanding $(B\\cup C)$, we have $ {\\Big \\{} x:x\\in A {\\text{ and }}(x\\in B {\\text{ or }} x \\in C) {\\Big \\}}$.  We have three mutually exclusive cases to consider:  (1) $x \\in A {\\text{ and }} x \\in B$ or (2) $x \\in A {\\text{ and }} x \\in C$ or (3) $x \\in A {\\text{ and }} x \\in B {\\text{ and }} x \\in C $.  Looking at the right hand side, upon expansion we see that we have $x \\in A {\\text{ and }} x \\in B$ or $x \\in A {\\text{ and }} x \\in C$ or $x \\in A {\\text{ and }} x \\in B {\\text{ and }} x \\in A {\\text{ and }} x \\in C$.  We can see this is equal to the earlier expansion, thus completing the first part of the proof.  Now we assume that $x$ is in $(A\\cap B)\\cup (A\\cap C)$ for the second part of the proof.  From the definition, the means that we have $x \\in A {\\text{ and }} x \\in B$ or $x \\in A {\\text{ and }} x \\in C$ or $x \\in A {\\text{ and }} x \\in B {\\text{ and }} x \\in A {\\text{ and }} x \\in C$.  We showed earlier that this is equal to the expansion of the left hand side, where we have made the following assumptions: (1) The order of statements in a sequence of \"ands\" doesn't matter (you can rearrange them as needed), and (2) $A \\cap A = A$.  This completes the proof.   \n",
    "\n",
    "$A\\cup (B\\cap C)=(A\\cup B)\\cap (A\\cup C)$:  \n",
    "\n",
    "Proof:  \n",
    "Proof:  Begin by assuming that $x$ is in $A\\cup (B\\cap C)$, which by definition yields $ {\\Big \\{} x:x\\in A {\\text{ or }}x\\in (B\\cap C) {\\Big \\}}$.  Expanding $(B\\cap C)$, we have $ {\\Big \\{} x:x\\in A {\\text{ or }}(x\\in B {\\text{ and }} x \\in C) {\\Big \\}}$.  We have three mutually exclusive cases to consider:  (1) $x \\in A$ or (2) $x \\in B {\\text{ and }} x \\in C$ (3) $x \\in A {\\text{ and }} x \\in B {\\text{ and }} x \\in C $.  Looking at the right hand side, upon expansion we see that we have $x \\in A {\\text{ or }} x \\in B$ and $x \\in A {\\text{ or }} x \\in C$.  This will give us nine possible results:  (1) $x \\in A {\\text { and }} x \\in A$ or (2) $x \\in A {\\text{ and } } x \\in C$ or (3) $x \\in A {\\text { and }} x \\in A {\\text{ and }} x \\in C$ or (4) $x \\in B {\\text { and }} x \\in A$ or (5) $x \\in B {\\text{ and } } x \\in C$ or (6) $x \\in B {\\text { and }} x \\in A {\\text{ and }} x \\in C$ or (7) $x \\in A {\\text { and }} x \\in B {\\text { and }} x \\in A$ or (8) $x \\in A {\\text{ and } } x \\in B {\\text{ and } }x \\in C$ or (9) $x \\in A {\\text { and }} x \\in B {\\text { and }} x \\in A {\\text{ and }} x \\in C$.\n",
    "\n",
    "We can see this is equal to the earlier expansion, thus completing the first part of the proof.  Now we assume that $x$ is in $(A\\cap B)\\cup (A\\cap C)$ for the second part of the proof.  From the definition, the means that we have $x \\in A {\\text{ and }} x \\in B$ or $x \\in A {\\text{ and }} x \\in C$ or $x \\in A {\\text{ and }} x \\in B {\\text{ and }} x \\in A {\\text{ and }} x \\in C$.  We showed earlier that this is equal to the expansion of the left hand side, where we have made the following assumptions: (1) The order of statements in a sequence of \"ands\" doesn't matter (you can rearrange them as needed), and (2) $A \\cap A = A$.  This completes the proof.   \n"
   ]
  },
  {
   "cell_type": "markdown",
   "metadata": {},
   "source": [
    "###  Zermelo-Fraenkel Axiomatic Set Theory\n",
    "\n",
    "Extensionality: two sets with the same elements are equal.\n",
    "$ \\forall x,y,z:(z\\in x\\iff z\\in y)\\Rightarrow x=y$ $ \\forall x,y,z:(z\\in x\\iff z\\in y)\\Rightarrow x=y$\n",
    "\n",
    "Separation: subsets exist\n",
    "$ \\forall y_{1},p\\,\\exists y_{2}:\\forall x:x\\in y_{2}\\iff (p\\land x\\in y_{1})$ $ \\forall y_{1},p\\,\\exists y_{2}:\\forall x:x\\in y_{2}\\iff (p\\land x\\in y_{1})$\n",
    "where $ p $ is any proposition\n",
    "\n",
    "The empty set exists\n",
    "$ \\exists x:\\forall y:y\\notin x$ $ \\exists x:\\forall y:y\\notin x$\n",
    "\n",
    "Union: the union of all members of a set is a set.\n",
    "$ \\forall x\\,\\exists y:\\forall z:z\\in y\\iff (\\exists u:z\\in u\\land u\\in x)$ $ \\forall x\\,\\exists y:\\forall z:z\\in y\\iff (\\exists u:z\\in u\\land u\\in x)$\n",
    "\n",
    "Power sets exist\n",
    "$ \\forall x\\,\\exists y:\\forall z:z\\in y\\iff (\\forall t:t\\in z\\Rightarrow t\\in x)$ $ \\forall x\\,\\exists y:\\forall z:z\\in y\\iff (\\forall t:t\\in z\\Rightarrow t\\in x)$\n",
    "we denote this set y by $ P(x)$\n",
    "\n",
    "Infinity: an infinite set exists\n",
    "$ \\exists x:(\\varnothing \\in x)\\land (\\forall y:y\\in x\\Rightarrow P(y)\\in x)$ $ \\exists x:(\\varnothing \\in x)\\land (\\forall y:y\\in x\\Rightarrow P(y)\\in x)$\n",
    "\n",
    "Foundation, no set is a member of itself\n",
    "$ \\forall x:x\\neq \\varnothing \\Rightarrow (\\exists y\\in x:y\\cap x=\\varnothing )$ $ \\forall x:x\\neq \\varnothing \\Rightarrow (\\exists y\\in x:y\\cap x=\\varnothing )$"
   ]
  },
  {
   "cell_type": "markdown",
   "metadata": {},
   "source": [
    "## Elliptic Curves\n",
    "\n",
    "Elliptic curves are defined in the following standard way:\n",
    "\n",
    "$y^2 = x^3+Ax+B$\n",
    "\n",
    "Elliptic curves have a number of very interesting properties which have brought them a great deal of attention.  One main property is that rational points on the elliptic curve (i.e. x and y are rational) form a \"group.\"  The most general way to discuss elliptic curves is in the space of $\\mathbb{C}^2$, the space of two complex variables.  That is to say that y and x are to be thought of as complex variables.\n"
   ]
  },
  {
   "cell_type": "code",
   "execution_count": 38,
   "metadata": {},
   "outputs": [
    {
     "data": {
      "text/plain": [
       "<matplotlib.text.Text at 0x11d8b0630>"
      ]
     },
     "execution_count": 38,
     "metadata": {},
     "output_type": "execute_result"
    },
    {
     "data": {
      "image/png": "[encoded data removed]",
      "text/plain": [
       "<matplotlib.figure.Figure at 0x11d7fdcf8>"
      ]
     },
     "metadata": {},
     "output_type": "display_data"
    }
   ],
   "source": [
    "%matplotlib inline\n",
    "import matplotlib\n",
    "import matplotlib.pyplot as plt\n",
    "import numpy as np\n",
    "x = np.linspace(-2.1, 5, 500)\n",
    "A = -3.0\n",
    "B = 3.0\n",
    "plt.plot(x, (x**3+A*x+B)**0.5)\n",
    "plt.title('A simple elliptic curve')"
   ]
  },
  {
   "cell_type": "markdown",
   "metadata": {},
   "source": [
    "## The Langlands Program\n",
    "\n",
    "Mathematician Robert Langlands has laid out a set of questions or areas of research that cross both pure mathematics and physics.  There are five components to this program, which Langland's himself provides some guidance towards potential routes for addressing (https://www.youtube.com/watch?v=3fAHRV20ioA&list=PLOu9EKD3tOEa2n8_KJcBVbUMoLtu9I_zg&index=26)."
   ]
  },
  {
   "cell_type": "code",
   "execution_count": null,
   "metadata": {
    "collapsed": true
   },
   "outputs": [],
   "source": []
  }
 ],
 "metadata": {
  "kernelspec": {
   "display_name": "Python 3",
   "language": "python",
   "name": "python3"
  },
  "language_info": {
   "codemirror_mode": {
    "name": "ipython",
    "version": 3
   },
   "file_extension": ".py",
   "mimetype": "text/x-python",
   "name": "python",
   "nbconvert_exporter": "python",
   "pygments_lexer": "ipython3",
   "version": "3.6.2"
  }
 },
 "nbformat": 4,
 "nbformat_minor": 2
}
