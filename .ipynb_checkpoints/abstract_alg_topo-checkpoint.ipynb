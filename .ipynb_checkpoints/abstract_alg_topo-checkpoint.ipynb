{
 "cells": [
  {
   "cell_type": "markdown",
   "metadata": {},
   "source": [
    "# Python notebook to walkthrough some abstract algebra and topology.\n",
    "\n",
    "## Topics:\n",
    "\n",
    "- Elliptic curves\n",
    "- Orbits\n",
    "- Lattice points\n",
    "- Topology\n",
    "- The Langlands Program"
   ]
  },
  {
   "cell_type": "markdown",
   "metadata": {},
   "source": [
    "### Elliptic curves\n",
    "\n",
    "Elliptic curves are defined in the following standard way:\n",
    "\n",
    "$y^2 = x^3+Ax+B$\n",
    "\n",
    "Elliptic curves have a number of very interesting properties which have brought them a great deal of attention.  One main property is that rational points on the elliptic curve (i.e. x and y are rational) form a \"group.\"  The most general way to discuss elliptic curves is in the space of $\\mathbb{C}^2$, the space of two complex variables.  That is to say that y and x are to be thought of as complex variables.\n",
    "\n",
    "### The Langlands Program\n",
    "\n",
    "Mathematician Robert Langlands has laid out a set of questions or areas of research that cross both pure mathematics and physics.  There are five components to this program, which Langland's himself provides some guidance towards potential routes for addressing (https://www.youtube.com/watch?v=3fAHRV20ioA&list=PLOu9EKD3tOEa2n8_KJcBVbUMoLtu9I_zg&index=26)."
   ]
  },
  {
   "cell_type": "code",
   "execution_count": null,
   "metadata": {
    "collapsed": true
   },
   "outputs": [],
   "source": []
  }
 ],
 "metadata": {
  "kernelspec": {
   "display_name": "Python 3",
   "language": "python",
   "name": "python3"
  },
  "language_info": {
   "codemirror_mode": {
    "name": "ipython",
    "version": 3
   },
   "file_extension": ".py",
   "mimetype": "text/x-python",
   "name": "python",
   "nbconvert_exporter": "python",
   "pygments_lexer": "ipython3",
   "version": "3.6.2"
  }
 },
 "nbformat": 4,
 "nbformat_minor": 2
}
